{
 "cells": [
  {
   "cell_type": "markdown",
   "metadata": {},
   "source": [
    "## DB연동 파이썬 프로그램"
   ]
  },
  {
   "cell_type": "markdown",
   "metadata": {},
   "source": [
    "### 환경\n",
    "- MySQL 9.2.0\n",
    "- Python 3.11.9\n",
    "    - My모듈 - PyMySQL"
   ]
  },
  {
   "cell_type": "code",
   "execution_count": 4,
   "metadata": {},
   "outputs": [
    {
     "name": "stdout",
     "output_type": "stream",
     "text": [
      "Collecting pymysql\n",
      "  Downloading PyMySQL-1.1.1-py3-none-any.whl.metadata (4.4 kB)\n",
      "Downloading PyMySQL-1.1.1-py3-none-any.whl (44 kB)\n",
      "Installing collected packages: pymysql\n",
      "Successfully installed pymysql-1.1.1\n"
     ]
    },
    {
     "name": "stderr",
     "output_type": "stream",
     "text": [
      "\n",
      "[notice] A new release of pip is available: 25.0 -> 25.0.1\n",
      "[notice] To update, run: python.exe -m pip install --upgrade pip\n"
     ]
    }
   ],
   "source": [
    "# pymysql 모듈 설치\n",
    "!pip install pymysql"
   ]
  },
  {
   "cell_type": "markdown",
   "metadata": {},
   "source": [
    "### 모듈 불러오기"
   ]
  },
  {
   "cell_type": "code",
   "execution_count": 6,
   "metadata": {},
   "outputs": [],
   "source": [
    "import pymysql"
   ]
  },
  {
   "cell_type": "markdown",
   "metadata": {},
   "source": [
    "### DB 접속 변수 초기화"
   ]
  },
  {
   "cell_type": "code",
   "execution_count": 36,
   "metadata": {},
   "outputs": [],
   "source": [
    "host = 'localhost' # or '127.0.0.1'\n",
    "port = 3306\n",
    "database = 'madang'\n",
    "username = 'root'\n",
    "password = '12345'\n",
    "\n",
    "conflag = True # 접속상태"
   ]
  },
  {
   "cell_type": "markdown",
   "metadata": {},
   "source": [
    "### DB접속 수행"
   ]
  },
  {
   "cell_type": "code",
   "execution_count": 37,
   "metadata": {},
   "outputs": [
    {
     "name": "stdout",
     "output_type": "stream",
     "text": [
      "DB연결 준비...\n",
      "DB연결 성공!\n"
     ]
    }
   ],
   "source": [
    "try:\n",
    "    print('DB연결 준비...')\n",
    "    # 연결객체 conn 생성\n",
    "    conn = pymysql.connect(host=host, user=username, password=password, port=port, db=database)\n",
    "    print('DB연결 성공!')\n",
    "    conflag = True\n",
    "except Exception as e:\n",
    "    print(f'DB연결 실패~!!{e}')\n",
    "    conflag = False"
   ]
  },
  {
   "cell_type": "markdown",
   "metadata": {},
   "source": [
    "### 데이터 가져오기"
   ]
  },
  {
   "cell_type": "code",
   "execution_count": 48,
   "metadata": {},
   "outputs": [
    {
     "name": "stdout",
     "output_type": "stream",
     "text": [
      "1     축구의 역사\t\t\t 굿스포츠       7000\n",
      "2     축구아는 여자\t\t\t 나무수      13000\n",
      "3     축구의 이해\t\t\t 대한미디어      22000\n",
      "4     골프 바이블\t\t\t 대한미디어      35000\n",
      "5     피겨 교본\t\t\t 굿스포츠       8000\n",
      "6     역도 단계별기술\t\t\t 굿스포츠       6000\n",
      "7     야구의 추억\t\t\t 이상미디어      20000\n",
      "8     야구를 부탁해\t\t\t 이상미디어      13000\n",
      "9     올림픽 이야기\t\t\t 삼성당       7500\n",
      "10    Olympic Champions\t\t\t Pearson      13000\n",
      "11    스포츠 의학\t\t\t 한솔의학서적      90000\n",
      "13    기타교본1\t\t\t 지미 핸드릭스      12000\n",
      "14    스포츠 의학\t\t\t Pearson      12000\n",
      "21    Zen Golf\t\t\t Pearson      12000\n",
      "22    Soccer Skills\t\t\t Human Kinetics      15000\n",
      "31    BTS PhotoAlbum\t\t\t 하이브     300000\n",
      "32    봉준호일대기\t\t\t cj엔      34000\n",
      "33    스포츠의 즐거움\t\t\t 마당과학      25000\n",
      "40    안드로이드는 전기양의 꿈을 꾸는가\t\t\t 이상미디어      25000\n"
     ]
    }
   ],
   "source": [
    "if conflag:\n",
    "    cursor = conn.cursor() # 커서 생성 (MySQL의 커서와 동일한 기능)\n",
    "    # 프로그래밍언어에서 쿼리문을 사용할 시 ; 제거\n",
    "    query = '''SELECT bookid\n",
    "                    , bookname\n",
    "                    , publisher\n",
    "                    , price \n",
    "                 FROM Book'''\n",
    "    \n",
    "    res = cursor.execute(query)     # SQL 실행\n",
    "    data = cursor.fetchall()        # MySQL 데이터를 한번에 다 가져옴\n",
    "\n",
    "    # 화면 출력\n",
    "    for rowdata in data:\n",
    "        print(f'{rowdata[0]:<5} {rowdata[1]}\\t\\t\\t {rowdata[2]} {rowdata[3]:>10}')\n",
    "    cursor.close()\n",
    "\n",
    "\n"
   ]
  },
  {
   "cell_type": "markdown",
   "metadata": {},
   "source": [
    "### DB연결 종료"
   ]
  },
  {
   "cell_type": "code",
   "execution_count": 34,
   "metadata": {},
   "outputs": [],
   "source": [
    "conn.close() #반드시\n"
   ]
  }
 ],
 "metadata": {
  "kernelspec": {
   "display_name": "Python 3",
   "language": "python",
   "name": "python3"
  },
  "language_info": {
   "codemirror_mode": {
    "name": "ipython",
    "version": 3
   },
   "file_extension": ".py",
   "mimetype": "text/x-python",
   "name": "python",
   "nbconvert_exporter": "python",
   "pygments_lexer": "ipython3",
   "version": "3.11.9"
  }
 },
 "nbformat": 4,
 "nbformat_minor": 2
}
